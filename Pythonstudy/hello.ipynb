{
 "cells": [
  {
   "cell_type": "code",
   "execution_count": null,
   "id": "29a04775",
   "metadata": {},
   "outputs": [
    {
     "name": "stdout",
     "output_type": "stream",
     "text": [
      "hello 1\n",
      "hello 2\n"
     ]
    }
   ],
   "source": [
    "# 可以更新的变量\n",
    "message = \"hello 1\"\n",
    "print(message)\n",
    "message = \"hello 2\"\n",
    "print(message)\n",
    "# print(messgae) 好好研究traceback"
   ]
  },
  {
   "cell_type": "code",
   "execution_count": null,
   "id": "c360561c",
   "metadata": {},
   "outputs": [
    {
     "name": "stdout",
     "output_type": "stream",
     "text": [
      "I LOVE YOU\n",
      "A\n",
      "B\n",
      " python \n",
      "python \n"
     ]
    }
   ],
   "source": [
    "# 变量加方法\n",
    "name = \"i love you\"\n",
    "print(name.upper())\n",
    "# 拼接字符串\n",
    "# 空白\\t换行\\n\n",
    "print(\"A\\nB\")\n",
    "\n",
    "# 变量加方法：函数删除讨厌的空白行\n",
    "fav_language = \" python \"\n",
    "print(fav_language)\n",
    "fav_language = fav_language.lstrip()\n",
    "print(fav_language)"
   ]
  },
  {
   "cell_type": "code",
   "execution_count": null,
   "id": "2fbbabf0",
   "metadata": {},
   "outputs": [
    {
     "name": "stdout",
     "output_type": "stream",
     "text": [
      "happy 23rd birthday!\n"
     ]
    }
   ],
   "source": [
    "# 变量类型错误\n",
    "age = 23\n",
    "message = \"happy \" + str(age) + \"rd birthday!\"\n",
    "print(message)"
   ]
  },
  {
   "cell_type": "code",
   "execution_count": null,
   "id": "f0ff8980",
   "metadata": {},
   "outputs": [
    {
     "name": "stdout",
     "output_type": "stream",
     "text": [
      "['mom', 'dad', 'sister', 'grandparents']\n",
      "mom\n",
      "Mom\n",
      "grandparents\n"
     ]
    }
   ],
   "source": [
    "family = ['mom','dad','sister','grandparents']\n",
    "print(family)\n",
    "print(family[0])\n",
    "print(family[0].title())\n",
    "print(family[-1])\n"
   ]
  },
  {
   "cell_type": "code",
   "execution_count": null,
   "id": "bab3944c",
   "metadata": {},
   "outputs": [
    {
     "name": "stdout",
     "output_type": "stream",
     "text": [
      "['honda', 'yamaha', 'bmw', 'audi']\n",
      "['ducati', 'yamaha', 'bmw', 'audi']\n",
      "['ducati', 'toyota', 'yamaha', 'bmw', 'audi']\n",
      "['toyota', 'yamaha', 'bmw', 'audi']\n",
      "['toyota', 'yamaha', 'bmw']\n",
      "audi\n",
      "['bmw', 'toyota', 'yamaha']\n"
     ]
    },
    {
     "data": {
      "text/plain": [
       "3"
      ]
     },
     "execution_count": 46,
     "metadata": {},
     "output_type": "execute_result"
    }
   ],
   "source": [
    "# 列表任意替换增加\n",
    "motorcycles = ['honda','yamaha','bmw','audi']\n",
    "print(motorcycles)\n",
    "motorcycles[0] = 'ducati'\n",
    "print(motorcycles)\n",
    "motorcycles.insert(1,'toyota')\n",
    "print(motorcycles)\n",
    "\n",
    "# 列表del，删除,del不是个方法这和pop不同\n",
    "del motorcycles[0]\n",
    "print(motorcycles)\n",
    "\n",
    "# 列表pop，列表就相当于一个栈，先进后出,不加数字弹出的就是最上面一层的栈\n",
    "poped = motorcycles.pop()\n",
    "print(motorcycles)\n",
    "print(poped)\n",
    "\n",
    "# 列表组织\n",
    "motorcycles.sort()\n",
    "print(motorcycles)\n",
    "len(motorcycles)\n"
   ]
  },
  {
   "cell_type": "code",
   "execution_count": 50,
   "id": "b73dab27",
   "metadata": {},
   "outputs": [
    {
     "name": "stdout",
     "output_type": "stream",
     "text": [
      "bmw\n",
      "toyota\n",
      "yamaha\n",
      "1\n",
      "2\n",
      "3\n",
      "4\n"
     ]
    }
   ],
   "source": [
    "# 遍历列表\n",
    "for motorcycle in motorcycles:\n",
    "    print(motorcycle)\n",
    "\n",
    "# 生成数字列表\n",
    "for value in range(1,5):\n",
    "    print(value)"
   ]
  },
  {
   "cell_type": "code",
   "execution_count": null,
   "id": "03a6770e",
   "metadata": {},
   "outputs": [
    {
     "name": "stdout",
     "output_type": "stream",
     "text": [
      "['ferrari']\n"
     ]
    }
   ],
   "source": [
    "# 常见的创建列表方式\n",
    "motorcycles = []\n",
    "motorcycles.append('ferrari')\n",
    "print(motorcycles)"
   ]
  },
  {
   "cell_type": "code",
   "execution_count": 4,
   "id": "4b138156",
   "metadata": {},
   "outputs": [
    {
     "name": "stdout",
     "output_type": "stream",
     "text": [
      "['fish', 'beef', 'noodle']\n",
      "amy\n",
      "ben\n"
     ]
    }
   ],
   "source": [
    "# 切片：列表的一部分\n",
    "my_fav_food = ['fish', 'beef','noodle']\n",
    "joe_fav_food = my_fav_food[ : ]\n",
    "print(joe_fav_food)\n",
    "\n",
    "# 不可以变的列表叫做元组\n",
    "users = ('amy','ben')\n",
    "for user in users:\n",
    "    print(user)"
   ]
  },
  {
   "cell_type": "code",
   "execution_count": 8,
   "id": "e2756bed",
   "metadata": {},
   "outputs": [
    {
     "name": "stdout",
     "output_type": "stream",
     "text": [
      "Audi\n",
      "BMW\n",
      "Subaru\n",
      "Toyota\n"
     ]
    },
    {
     "data": {
      "text/plain": [
       "False"
      ]
     },
     "execution_count": 8,
     "metadata": {},
     "output_type": "execute_result"
    }
   ],
   "source": [
    "cars = ['audi','bmw','subaru','toyota']\n",
    "\n",
    "for car in cars:\n",
    "    if car == 'bmw':\n",
    "        print(car.upper());\n",
    "    else:\n",
    "        print(car.title())\n",
    "\n",
    "'ferrari' in cars"
   ]
  },
  {
   "cell_type": "code",
   "execution_count": null,
   "id": "0a84501c",
   "metadata": {},
   "outputs": [
    {
     "name": "stdout",
     "output_type": "stream",
     "text": [
      "you are a adult！\n",
      "your admission fee is 10 dollars.\n"
     ]
    }
   ],
   "source": [
    "# if 就是一个判断加上执行条件\n",
    "\n",
    "age = 19\n",
    "if age > 18:\n",
    "    print('you are a adult！')\n",
    "# 如果你精确你的需求，elif会比使用else好\n",
    "if age < 4:\n",
    "    price = 0\n",
    "elif age < 18:\n",
    "    price = 5\n",
    "elif age >= 18:\n",
    "    price = 10\n",
    "\n",
    "print(\"your admission fee is \" + str(price) + \" dollars.\")"
   ]
  },
  {
   "cell_type": "code",
   "execution_count": null,
   "id": "9abc8cdf",
   "metadata": {},
   "outputs": [
    {
     "name": "stdout",
     "output_type": "stream",
     "text": [
      "{'color': 'green', 'age': '18', 'speed': 'slow', 'x_position': 0, 'y_position': 25}\n",
      "original is 0\n",
      "new is 2\n",
      "{'color': 'green', 'age': '18', 'speed': 'fast', 'x_position': 2, 'y_position': 25}\n",
      "{'age': '18', 'speed': 'fast', 'x_position': 2, 'y_position': 25}\n"
     ]
    }
   ],
   "source": [
    "# 字典存储对象,只关心key和value之间的关系\n",
    "alien_0 = {'color': 'green', 'age': '18', 'speed': 'slow'}\n",
    "alien_0['x_position'] = 0\n",
    "alien_0['y_position'] = 25\n",
    "print(alien_0)\n",
    "\n",
    "alien_0['speed'] = 'fast'\n",
    "if alien_0['speed'] == 'slow':\n",
    "    x_plus = 1\n",
    "elif alien_0['speed'] == 'fast':\n",
    "    x_plus = 2\n",
    "print('original is ' + str(alien_0['x_position']))\n",
    "alien_0['x_position'] = alien_0['x_position']+ x_plus \n",
    "print('new is ' + str(alien_0['x_position']))\n",
    "print(alien_0)\n",
    "\n",
    "del alien_0['color']\n",
    "\n",
    "print(alien_0)"
   ]
  },
  {
   "cell_type": "code",
   "execution_count": null,
   "id": "1d3da0bc",
   "metadata": {},
   "outputs": [
    {
     "name": "stdout",
     "output_type": "stream",
     "text": [
      "{'amy': 'python', 'tony': 'ruby'}\n",
      "Name: amy\n",
      "Name: tony\n",
      "name:amy\n",
      "i love you\n",
      "name:tony\n"
     ]
    }
   ],
   "source": [
    "# 字典可以存储多种对象的同一个特征\n",
    "\n",
    "fav_language = {\n",
    "    'amy' : 'python',\n",
    "    'tony' : 'ruby',\n",
    "    }\n",
    "print(fav_language)\n",
    "\n",
    "for name, language in fav_language.items():\n",
    "    print('Name: ' + name)\n"
   ]
  },
  {
   "cell_type": "code",
   "execution_count": null,
   "id": "dc3976d7",
   "metadata": {},
   "outputs": [
    {
     "name": "stdout",
     "output_type": "stream",
     "text": [
      "name:amy\n",
      "Amy ,i love you\n",
      "name:tony\n",
      "python\n",
      "ruby\n"
     ]
    }
   ],
   "source": [
    "# 遍历字典中的键和值\n",
    "friend = ['amy']\n",
    "for name in fav_language.keys():\n",
    "    print('name:' + name)\n",
    "    if name in friend:\n",
    "        print(name.title() + ' ,i love you')\n",
    "\n",
    "for language in fav_language.values():\n",
    "    print(language)"
   ]
  },
  {
   "cell_type": "code",
   "execution_count": null,
   "id": "669526a6",
   "metadata": {},
   "outputs": [
    {
     "name": "stdout",
     "output_type": "stream",
     "text": [
      "\n",
      "Key: username\n",
      "Value: Bill Gates\n",
      "\n",
      "Key: first\n",
      "Value: Bill\n",
      "\n",
      "Key: last\n",
      "Value: Gates\n"
     ]
    }
   ],
   "source": [
    "# 遍历字典的键值对\n",
    "user_0 = {\n",
    "    'username' : 'Bill Gates',\n",
    "    'first' : 'Bill',\n",
    "    'last' : 'Gates',\n",
    "    }\n",
    "\n",
    "for key, value in user_0.items():\n",
    "    print(\"\\nKey: \" + key)\n",
    "    print(\"Value: \" + value)"
   ]
  },
  {
   "cell_type": "code",
   "execution_count": null,
   "id": "c687fb49",
   "metadata": {},
   "outputs": [
    {
     "data": {
      "text/plain": [
       "30"
      ]
     },
     "execution_count": 33,
     "metadata": {},
     "output_type": "execute_result"
    }
   ],
   "source": [
    "# 嵌套\n",
    "aliens = []\n",
    "for alien_number in range(30):\n",
    "    new_alien = {'color' : 'red', 'age' : 1}\n",
    "    aliens.append(new_alien)\n",
    "\n",
    "len(aliens)\n",
    "# 集合就是唯一不重复的列表内容，不可变的内容才能加入\n"
   ]
  },
  {
   "cell_type": "code",
   "execution_count": null,
   "id": "5d78047b",
   "metadata": {},
   "outputs": [
    {
     "name": "stdout",
     "output_type": "stream",
     "text": [
      "hello Neo!\n"
     ]
    }
   ],
   "source": [
    "prompt = \"what's your name? \"\n",
    "name = input(prompt)\n",
    "print(\"hello \" + name + \"!\")"
   ]
  },
  {
   "cell_type": "code",
   "execution_count": 39,
   "id": "734fbbe4",
   "metadata": {},
   "outputs": [
    {
     "name": "stdout",
     "output_type": "stream",
     "text": [
      "1\n",
      "2\n",
      "3\n",
      "4\n",
      "5\n",
      "d \n",
      "quit\n"
     ]
    }
   ],
   "source": [
    "# while 直到不满足条件\n",
    "num = 1\n",
    "while num <= 5:\n",
    "    print(num)\n",
    "    num += 1\n",
    "\n",
    "prompt = \"enter quit is you quit!\"\n",
    "message = \"\"\n",
    "while message != 'quit':\n",
    "    message = input(prompt)\n",
    "    print(message)  \n"
   ]
  },
  {
   "cell_type": "code",
   "execution_count": null,
   "id": "a8c2d0f7",
   "metadata": {},
   "outputs": [
    {
     "name": "stdout",
     "output_type": "stream",
     "text": [
      "['dog', 'cow']\n"
     ]
    }
   ],
   "source": [
    "pets = ['dog','cat','cow','cat']\n",
    "while 'cat' in pets:\n",
    "    pets.remove('cat')\n",
    "\n",
    "print(pets)"
   ]
  },
  {
   "cell_type": "code",
   "execution_count": null,
   "id": "66b52f13",
   "metadata": {},
   "outputs": [
    {
     "name": "stdout",
     "output_type": "stream",
     "text": [
      "{'Amy': 'BMW', 'ben': 'bmw'}\n"
     ]
    }
   ],
   "source": [
    "# 问卷调查\n",
    "responses = {}\n",
    "num = 0\n",
    "polling_active = True\n",
    "\n",
    "while polling_active:\n",
    "    name = input('\\nwhat is your name?')\n",
    "    response = input('which brand of car do you like? ')\n",
    "\n",
    "    responses[name] = response\n",
    "    \n",
    "    num += 1\n",
    "    if num == 2:\n",
    "       polling_active = False\n",
    "       \n",
    "\n",
    "print(responses)\n"
   ]
  },
  {
   "cell_type": "code",
   "execution_count": 14,
   "id": "37b8adb8",
   "metadata": {},
   "outputs": [
    {
     "name": "stdout",
     "output_type": "stream",
     "text": [
      "\n",
      "Name: ben\n",
      "Favorite car: audi\n",
      "{'ben': 'audi'}\n",
      "\n",
      "Name: amy\n",
      "Favorite car: bmw\n",
      "{'ben': 'audi', 'amy': 'bmw'}\n"
     ]
    }
   ],
   "source": [
    "# 写一个问卷调查的函数\n",
    "responses = {}\n",
    "def polling_get(name,response):\n",
    "    responses[name] = response\n",
    "    print(\"\\nName: \" + name)\n",
    "    print(\"Favorite car: \" + response)\n",
    "    print(responses)\n",
    "polling_get('ben','audi')\n",
    "polling_get('amy','bmw')"
   ]
  },
  {
   "cell_type": "code",
   "execution_count": null,
   "id": "def51e6f",
   "metadata": {},
   "outputs": [
    {
     "name": "stdout",
     "output_type": "stream",
     "text": [
      "hello ben\n"
     ]
    }
   ],
   "source": [
    "# 函数\n",
    "#def greet_users(name):\n",
    "    #\"\"\"how are you?\"\"\"\n",
    "    #print('hello ' + name)\n",
    "\n",
    "#greet_users('ben')"
   ]
  },
  {
   "cell_type": "code",
   "execution_count": 5,
   "id": "7225c163",
   "metadata": {},
   "outputs": [
    {
     "name": "stdout",
     "output_type": "stream",
     "text": [
      "hello apple!\n",
      "hello banana!\n",
      "hello peach!\n"
     ]
    }
   ],
   "source": [
    "# 函数传递列表\n",
    "def greet_users(names):\n",
    "    for name in names:\n",
    "        print(\"hello \" + name + \"!\")\n",
    "\n",
    "username = ['apple', 'banana', 'peach']\n",
    "greet_users(username)\n"
   ]
  },
  {
   "cell_type": "code",
   "execution_count": 12,
   "id": "40daf18f",
   "metadata": {},
   "outputs": [
    {
     "name": "stdout",
     "output_type": "stream",
     "text": [
      "\n",
      " make a pizza\n",
      "Size:12\n",
      "requirements:pepper\n",
      "\n",
      " make a pizza\n",
      "Size:16\n",
      "requirements:mushroom\n",
      "requirements:pepper\n"
     ]
    }
   ],
   "source": [
    "# 函数打包参数,准备pizza1，pizza2，pizza3...\n",
    "def make_pizza(size,*toppings):\n",
    "    print('\\n make a pizza')\n",
    "    print('Size:' + str(size))\n",
    "    for topping in toppings:\n",
    "        print('requirements:' + topping )\n",
    "\n",
    "\n",
    "\n",
    "make_pizza(12,'pepper')\n",
    "make_pizza(16,'mushroom','pepper')\n"
   ]
  },
  {
   "cell_type": "code",
   "execution_count": 19,
   "id": "caaceed7",
   "metadata": {},
   "outputs": [
    {
     "data": {
      "text/plain": [
       "{'first_name': 'bill', 'last_name': 'gates', 'location': 'US', 'age': '50'}"
      ]
     },
     "execution_count": 19,
     "metadata": {},
     "output_type": "execute_result"
    }
   ],
   "source": [
    "# 字典的个人信息\n",
    "\n",
    "def build_profile(first ,last , **user_info):\n",
    "    profile = {}\n",
    "    profile['first_name'] = first\n",
    "    profile['last_name'] = last\n",
    "    for key ,value in user_info.items():\n",
    "        profile[key] = value\n",
    "    return profile\n",
    "    \n",
    "build_profile('bill','gates',location='US',age='50')"
   ]
  },
  {
   "cell_type": "code",
   "execution_count": 1,
   "id": "312a9ed5",
   "metadata": {},
   "outputs": [
    {
     "name": "stdout",
     "output_type": "stream",
     "text": [
      "\n",
      "Size of pizza: 16\n",
      "Toppings: \n",
      "-pepper\n",
      "-mushroom\n",
      "\n",
      "Size of pizza: 12\n",
      "Toppings: \n",
      "-pepper\n",
      "-cheese\n"
     ]
    }
   ],
   "source": [
    "#记得重启内核再import\n",
    "import pizza as p\n",
    "\n",
    "p.make_p(16, 'pepper','mushroom')\n",
    "p.make_p(12, 'pepper','cheese')"
   ]
  },
  {
   "cell_type": "code",
   "execution_count": 1,
   "id": "64782e1d",
   "metadata": {},
   "outputs": [
    {
     "name": "stdout",
     "output_type": "stream",
     "text": [
      "\n",
      "Size of pizza: 16\n",
      "Toppings: \n",
      "-pepper\n",
      "-mushroom\n",
      "\n",
      "Size of pizza: 12\n",
      "Toppings: \n",
      "-pepper\n",
      "-cheese\n"
     ]
    }
   ],
   "source": [
    "# 这种做法最常见，导入所有的函数，而不是整个吗模块，这样可以直接应用函数\n",
    "from pizza import * \n",
    "\n",
    "make_p(16, 'pepper','mushroom')\n",
    "make_p(12, 'pepper','cheese') # 报错由于没有使用外号"
   ]
  },
  {
   "cell_type": "code",
   "execution_count": 4,
   "id": "607383de",
   "metadata": {},
   "outputs": [
    {
     "name": "stdout",
     "output_type": "stream",
     "text": [
      "Name: harry\n",
      "Age: 6\n",
      "sitting\n",
      "rolling\n"
     ]
    }
   ],
   "source": [
    "# 类,属性\n",
    "class Dog():\n",
    "    def __init__(self,name,age):\n",
    "        self.name = name\n",
    "        self.age = age\n",
    "    \n",
    "    def sit(self):\n",
    "        print('sitting')\n",
    "    def roll_over(self):\n",
    "        print('rolling')\n",
    "\n",
    "my_dog = Dog('harry',6)\n",
    "print('Name: '+ my_dog.name)\n",
    "print('Age: '+ str(my_dog.age))\n",
    "my_dog.sit()\n",
    "my_dog.roll_over()\n",
    "\n"
   ]
  }
 ],
 "metadata": {
  "kernelspec": {
   "display_name": "base",
   "language": "python",
   "name": "python3"
  },
  "language_info": {
   "codemirror_mode": {
    "name": "ipython",
    "version": 3
   },
   "file_extension": ".py",
   "mimetype": "text/x-python",
   "name": "python",
   "nbconvert_exporter": "python",
   "pygments_lexer": "ipython3",
   "version": "3.12.7"
  }
 },
 "nbformat": 4,
 "nbformat_minor": 5
}
