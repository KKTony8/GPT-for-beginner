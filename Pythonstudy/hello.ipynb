{
 "cells": [
  {
   "cell_type": "code",
   "execution_count": null,
   "id": "29a04775",
   "metadata": {},
   "outputs": [
    {
     "name": "stdout",
     "output_type": "stream",
     "text": [
      "hello 1\n",
      "hello 2\n"
     ]
    }
   ],
   "source": [
    "# 可以更新的变量\n",
    "message = \"hello 1\"\n",
    "print(message)\n",
    "message = \"hello 2\"\n",
    "print(message)\n",
    "# print(messgae) 好好研究traceback"
   ]
  },
  {
   "cell_type": "code",
   "execution_count": null,
   "id": "c360561c",
   "metadata": {},
   "outputs": [
    {
     "name": "stdout",
     "output_type": "stream",
     "text": [
      "I LOVE YOU\n",
      "A\n",
      "B\n",
      " python \n",
      "python \n"
     ]
    }
   ],
   "source": [
    "# 变量加方法\n",
    "name = \"i love you\"\n",
    "print(name.upper())\n",
    "# 拼接字符串\n",
    "# 空白\\t换行\\n\n",
    "print(\"A\\nB\")\n",
    "\n",
    "# 变量加方法：函数删除讨厌的空白行\n",
    "fav_language = \" python \"\n",
    "print(fav_language)\n",
    "fav_language = fav_language.lstrip()\n",
    "print(fav_language)"
   ]
  },
  {
   "cell_type": "code",
   "execution_count": null,
   "id": "2fbbabf0",
   "metadata": {},
   "outputs": [
    {
     "name": "stdout",
     "output_type": "stream",
     "text": [
      "happy 23rd birthday!\n"
     ]
    }
   ],
   "source": [
    "# 变量类型错误\n",
    "age = 23\n",
    "message = \"happy \" + str(age) + \"rd birthday!\"\n",
    "print(message)"
   ]
  },
  {
   "cell_type": "code",
   "execution_count": null,
   "id": "f0ff8980",
   "metadata": {},
   "outputs": [
    {
     "name": "stdout",
     "output_type": "stream",
     "text": [
      "['mom', 'dad', 'sister', 'grandparents']\n",
      "mom\n",
      "Mom\n",
      "grandparents\n"
     ]
    }
   ],
   "source": [
    "family = ['mom','dad','sister','grandparents']\n",
    "print(family)\n",
    "print(family[0])\n",
    "print(family[0].title())\n",
    "print(family[-1])\n"
   ]
  },
  {
   "cell_type": "code",
   "execution_count": null,
   "id": "bab3944c",
   "metadata": {},
   "outputs": [
    {
     "name": "stdout",
     "output_type": "stream",
     "text": [
      "['honda', 'yamaha', 'bmw', 'audi']\n",
      "['ducati', 'yamaha', 'bmw', 'audi']\n",
      "['ducati', 'toyota', 'yamaha', 'bmw', 'audi']\n",
      "['toyota', 'yamaha', 'bmw', 'audi']\n",
      "['toyota', 'yamaha', 'bmw']\n",
      "audi\n",
      "['bmw', 'toyota', 'yamaha']\n"
     ]
    },
    {
     "data": {
      "text/plain": [
       "3"
      ]
     },
     "execution_count": 46,
     "metadata": {},
     "output_type": "execute_result"
    }
   ],
   "source": [
    "# 列表任意替换增加\n",
    "motorcycles = ['honda','yamaha','bmw','audi']\n",
    "print(motorcycles)\n",
    "motorcycles[0] = 'ducati'\n",
    "print(motorcycles)\n",
    "motorcycles.insert(1,'toyota')\n",
    "print(motorcycles)\n",
    "\n",
    "# 列表del，删除,del不是个方法这和pop不同\n",
    "del motorcycles[0]\n",
    "print(motorcycles)\n",
    "\n",
    "# 列表pop，列表就相当于一个栈，先进后出,不加数字弹出的就是最上面一层的栈\n",
    "poped = motorcycles.pop()\n",
    "print(motorcycles)\n",
    "print(poped)\n",
    "\n",
    "# 列表组织\n",
    "motorcycles.sort()\n",
    "print(motorcycles)\n",
    "len(motorcycles)\n"
   ]
  },
  {
   "cell_type": "code",
   "execution_count": 50,
   "id": "b73dab27",
   "metadata": {},
   "outputs": [
    {
     "name": "stdout",
     "output_type": "stream",
     "text": [
      "bmw\n",
      "toyota\n",
      "yamaha\n",
      "1\n",
      "2\n",
      "3\n",
      "4\n"
     ]
    }
   ],
   "source": [
    "# 遍历列表\n",
    "for motorcycle in motorcycles:\n",
    "    print(motorcycle)\n",
    "\n",
    "# 生成数字列表\n",
    "for value in range(1,5):\n",
    "    print(value)"
   ]
  },
  {
   "cell_type": "code",
   "execution_count": null,
   "id": "03a6770e",
   "metadata": {},
   "outputs": [
    {
     "name": "stdout",
     "output_type": "stream",
     "text": [
      "['ferrari']\n"
     ]
    }
   ],
   "source": [
    "# 常见的创建列表方式\n",
    "motorcycles = []\n",
    "motorcycles.append('ferrari')\n",
    "print(motorcycles)"
   ]
  }
 ],
 "metadata": {
  "kernelspec": {
   "display_name": "base",
   "language": "python",
   "name": "python3"
  },
  "language_info": {
   "codemirror_mode": {
    "name": "ipython",
    "version": 3
   },
   "file_extension": ".py",
   "mimetype": "text/x-python",
   "name": "python",
   "nbconvert_exporter": "python",
   "pygments_lexer": "ipython3",
   "version": "3.12.7"
  }
 },
 "nbformat": 4,
 "nbformat_minor": 5
}
